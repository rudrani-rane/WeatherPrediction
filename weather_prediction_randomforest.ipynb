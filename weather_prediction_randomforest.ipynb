{
  "nbformat": 4,
  "nbformat_minor": 0,
  "metadata": {
    "colab": {
      "provenance": []
    },
    "kernelspec": {
      "name": "python3",
      "display_name": "Python 3"
    },
    "language_info": {
      "name": "python"
    }
  },
  "cells": [
    {
      "cell_type": "code",
      "execution_count": null,
      "metadata": {
        "colab": {
          "base_uri": "https://localhost:8080/"
        },
        "id": "LvmZTb_-Mwvx",
        "outputId": "21b365dc-7c91-4ba6-898f-d32a21dcde2b"
      },
      "outputs": [
        {
          "output_type": "stream",
          "name": "stdout",
          "text": [
            "                 Station Name   Measurement Timestamp  Air Temperature  \\\n",
            "0  Oak Street Weather Station  05/22/2015 03:00:00 PM              NaN   \n",
            "1  Oak Street Weather Station  05/22/2015 05:00:00 PM              NaN   \n",
            "2  Oak Street Weather Station  05/22/2015 06:00:00 PM              NaN   \n",
            "3  Oak Street Weather Station  05/22/2015 07:00:00 PM              NaN   \n",
            "4  Oak Street Weather Station  05/22/2015 08:00:00 PM              NaN   \n",
            "\n",
            "   Wet Bulb Temperature  Humidity  Rain Intensity  Interval Rain  Total Rain  \\\n",
            "0                   7.0      55.0             0.0            0.0         1.4   \n",
            "1                   6.3      56.0             0.0            0.0         1.4   \n",
            "2                   6.5      54.0             0.0            0.0         1.4   \n",
            "3                   6.3      53.0             0.0            0.0         1.4   \n",
            "4                   6.4      52.0             0.0            0.0         1.4   \n",
            "\n",
            "   Precipitation Type  Wind Direction  Wind Speed  Maximum Wind Speed  \\\n",
            "0                 0.0            63.0         1.9                 2.8   \n",
            "1                 0.0           124.0         1.5                 2.3   \n",
            "2                 0.0           156.0         1.9                 3.4   \n",
            "3                 0.0           150.0         1.4                 4.5   \n",
            "4                 0.0           155.0         1.1                 2.3   \n",
            "\n",
            "   Barometric Pressure  Solar Radiation  Heading  Battery Life  \\\n",
            "0                  NaN            780.0    322.0          12.0   \n",
            "1                  NaN            180.0    322.0          12.1   \n",
            "2                  NaN            127.0    322.0          12.1   \n",
            "3                  NaN             67.0    322.0          12.1   \n",
            "4                  NaN             10.0    322.0          12.0   \n",
            "\n",
            "  Measurement Timestamp Label                       Measurement ID  \n",
            "0          05/22/2015 3:00 PM  OakStreetWeatherStation201505221500  \n",
            "1          05/22/2015 5:00 PM  OakStreetWeatherStation201505221700  \n",
            "2          05/22/2015 6:00 PM  OakStreetWeatherStation201505221800  \n",
            "3          05/22/2015 7:00 PM  OakStreetWeatherStation201505221900  \n",
            "4          05/22/2015 8:00 PM  OakStreetWeatherStation201505222000  \n",
            "Model R-squared (in percentage): 91.68%\n",
            "Mean Squared Error(MSE): 8.1383\n",
            "Mean Absolute Error(MAE): 1.3055\n",
            "Root Mean Squared Error(RMSE): 2.8528\n",
            "Mean Absolute Percentage Error(MAPE): 7652426331076.1309\n",
            "Feature Importance:\n",
            "                 Feature  Importance\n",
            "0   Wet Bulb Temperature    0.613911\n",
            "12          Battery Life    0.237221\n",
            "1               Humidity    0.048475\n",
            "9    Barometric Pressure    0.032343\n",
            "6         Wind Direction    0.029103\n",
            "7             Wind Speed    0.016467\n",
            "8     Maximum Wind Speed    0.014101\n",
            "10       Solar Radiation    0.005994\n",
            "3          Interval Rain    0.002034\n",
            "4             Total Rain    0.000326\n",
            "11               Heading    0.000020\n",
            "5     Precipitation Type    0.000003\n",
            "2         Rain Intensity    0.000001\n"
          ]
        }
      ],
      "source": [
        "import pandas as pd\n",
        "import numpy as np\n",
        "from sklearn.model_selection import train_test_split\n",
        "from sklearn.ensemble import RandomForestRegressor\n",
        "from sklearn.metrics import (\n",
        "    mean_absolute_error, mean_squared_error, r2_score,\n",
        "    mean_absolute_percentage_error, explained_variance_score\n",
        ")\n",
        "\n",
        "data = pd.read_csv('/content/weather-automated-sensors-dataset.csv')\n",
        "\n",
        "print(data.head())\n",
        "\n",
        "\n",
        "numeric_columns = data.select_dtypes(include=[np.number]).columns\n",
        "data_numeric = data[numeric_columns]\n",
        "\n",
        "data_numeric = data_numeric.fillna(data_numeric.median())\n",
        "\n",
        "\n",
        "X = data_numeric.drop('Air Temperature', axis=1)\n",
        "y = data_numeric['Air Temperature']\n",
        "\n",
        "X_train, X_test, y_train, y_test = train_test_split(X, y, test_size=0.2, random_state=42)\n",
        "\n",
        "rf_model = RandomForestRegressor(n_estimators=100, random_state=42)\n",
        "\n",
        "\n",
        "rf_model.fit(X_train, y_train)\n",
        "\n",
        "y_pred = rf_model.predict(X_test)\n",
        "\n",
        "\n",
        "r2 = r2_score(y_test, y_pred)\n",
        "mse = mean_squared_error(y_test, y_pred)\n",
        "mae = mean_absolute_error(y_test, y_pred)  # Mean Absolute Error\n",
        "rmse = np.sqrt(mse)  # Root Mean Squared Error\n",
        "mape = mean_absolute_percentage_error(y_test, y_pred)  # Mean Absolute Percentage Error\n",
        "explained_variance = explained_variance_score(y_test, y_pred)\n",
        "\n",
        "# Convert R-squared into percentage\n",
        "r2_percentage = r2 * 100\n",
        "\n",
        "print(f\"Model R-squared (in percentage): {r2_percentage:.2f}%\")\n",
        "print(f\"Mean Squared Error(MSE): {mse:.4f}\")\n",
        "print(f\"Mean Absolute Error(MAE): {mae:.4f}\")\n",
        "print(f\"Root Mean Squared Error(RMSE): {rmse:.4f}\")\n",
        "print(f\"Mean Absolute Percentage Error(MAPE): {mape:.4f}\")\n",
        "\n",
        "importances = rf_model.feature_importances_\n",
        "features = X.columns\n",
        "feature_importance_df = pd.DataFrame({'Feature': features, 'Importance': importances})\n",
        "feature_importance_df = feature_importance_df.sort_values(by='Importance', ascending=False)\n",
        "print(\"Feature Importance:\")\n",
        "print(feature_importance_df)\n"
      ]
    },
    {
      "cell_type": "code",
      "source": [
        "\n"
      ],
      "metadata": {
        "id": "ZhjD6OeQNSb6"
      },
      "execution_count": null,
      "outputs": []
    },
    {
      "cell_type": "code",
      "source": [],
      "metadata": {
        "id": "U_mNXt-kNg5H"
      },
      "execution_count": null,
      "outputs": []
    },
    {
      "cell_type": "code",
      "source": [],
      "metadata": {
        "id": "8_dpEsjZdbQ4"
      },
      "execution_count": null,
      "outputs": []
    }
  ]
}